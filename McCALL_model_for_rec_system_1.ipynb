{
  "nbformat": 4,
  "nbformat_minor": 0,
  "metadata": {
    "colab": {
      "provenance": []
    },
    "kernelspec": {
      "name": "python3",
      "display_name": "Python 3"
    },
    "language_info": {
      "name": "python"
    }
  },
  "cells": [
    {
      "cell_type": "code",
      "source": [
        "import gensim\n",
        "import gensim.downloader as download_api\n",
        "russian_model = download_api.load('word2vec-ruscorpora-300')\n",
        "from gensim.models.word2vec import Word2Vec\n",
        "from gensim.models.fasttext import FastText\n",
        "import nltk\n",
        "from nltk.tokenize import word_tokenize\n",
        "!pip install pymorphy2 > None\n",
        "import numpy as np\n",
        "import pandas as pd\n",
        "import matplotlib as plt\n",
        "import re\n",
        "import pandas as pd\n",
        "import pymorphy2\n",
        "from nltk.stem.snowball import RussianStemmer\n",
        "from nltk.tokenize import word_tokenize\n",
        "import nltk\n",
        "from string import punctuation\n",
        "nltk.download('stopwords')\n",
        "from  sklearn.feature_extraction.text import TfidfVectorizer\n",
        "from  sklearn.feature_extraction.text import CountVectorizer\n",
        "cv = CountVectorizer()\n",
        "from nltk import wordpunct_tokenize, WordNetLemmatizer, sent_tokenize, pos_tag\n",
        "from nltk.corpus import stopwords as sw, wordnet as wn\n",
        "from keras.preprocessing.text import Tokenizer\n",
        "from keras.preprocessing.sequence import pad_sequences\n",
        "import string\n",
        "import re\n",
        "punctuations = list(punctuation)\n",
        "nltk.download('stopwords')\n",
        "stopwords = nltk.corpus.stopwords.words('russian')\n",
        "morph = pymorphy2.MorphAnalyzer()\n",
        "import nltk\n",
        "nltk.download('punkt')\n",
        "nltk.download('punkt')\n",
        "tfidf_encoder = TfidfVectorizer()"
      ],
      "metadata": {
        "colab": {
          "base_uri": "https://localhost:8080/",
          "height": 389
        },
        "id": "RI5FNKMhrV1q",
        "outputId": "3cee56da-08a8-4f57-e150-4ce860d1b937"
      },
      "execution_count": null,
      "outputs": [
        {
          "output_type": "stream",
          "name": "stdout",
          "text": [
            "[================----------------------------------] 32.8% 65.2/198.8MB downloaded"
          ]
        },
        {
          "output_type": "error",
          "ename": "ContentTooShortError",
          "evalue": "<urlopen error retrieval incomplete: got only 68418913 out of 208427381 bytes>",
          "traceback": [
            "\u001b[0;31m---------------------------------------------------------------------------\u001b[0m",
            "\u001b[0;31mContentTooShortError\u001b[0m                      Traceback (most recent call last)",
            "\u001b[0;32m<ipython-input-2-c20dfeb68c2d>\u001b[0m in \u001b[0;36m<cell line: 3>\u001b[0;34m()\u001b[0m\n\u001b[1;32m      1\u001b[0m \u001b[0;32mimport\u001b[0m \u001b[0mgensim\u001b[0m\u001b[0;34m\u001b[0m\u001b[0;34m\u001b[0m\u001b[0m\n\u001b[1;32m      2\u001b[0m \u001b[0;32mimport\u001b[0m \u001b[0mgensim\u001b[0m\u001b[0;34m.\u001b[0m\u001b[0mdownloader\u001b[0m \u001b[0;32mas\u001b[0m \u001b[0mdownload_api\u001b[0m\u001b[0;34m\u001b[0m\u001b[0;34m\u001b[0m\u001b[0m\n\u001b[0;32m----> 3\u001b[0;31m \u001b[0mrussian_model\u001b[0m \u001b[0;34m=\u001b[0m \u001b[0mdownload_api\u001b[0m\u001b[0;34m.\u001b[0m\u001b[0mload\u001b[0m\u001b[0;34m(\u001b[0m\u001b[0;34m'word2vec-ruscorpora-300'\u001b[0m\u001b[0;34m)\u001b[0m\u001b[0;34m\u001b[0m\u001b[0;34m\u001b[0m\u001b[0m\n\u001b[0m\u001b[1;32m      4\u001b[0m \u001b[0;32mfrom\u001b[0m \u001b[0mgensim\u001b[0m\u001b[0;34m.\u001b[0m\u001b[0mmodels\u001b[0m\u001b[0;34m.\u001b[0m\u001b[0mword2vec\u001b[0m \u001b[0;32mimport\u001b[0m \u001b[0mWord2Vec\u001b[0m\u001b[0;34m\u001b[0m\u001b[0;34m\u001b[0m\u001b[0m\n\u001b[1;32m      5\u001b[0m \u001b[0;32mfrom\u001b[0m \u001b[0mgensim\u001b[0m\u001b[0;34m.\u001b[0m\u001b[0mmodels\u001b[0m\u001b[0;34m.\u001b[0m\u001b[0mfasttext\u001b[0m \u001b[0;32mimport\u001b[0m \u001b[0mFastText\u001b[0m\u001b[0;34m\u001b[0m\u001b[0;34m\u001b[0m\u001b[0m\n",
            "\u001b[0;32m/usr/local/lib/python3.10/dist-packages/gensim/downloader.py\u001b[0m in \u001b[0;36mload\u001b[0;34m(name, return_path)\u001b[0m\n\u001b[1;32m    494\u001b[0m     \u001b[0mpath\u001b[0m \u001b[0;34m=\u001b[0m \u001b[0mos\u001b[0m\u001b[0;34m.\u001b[0m\u001b[0mpath\u001b[0m\u001b[0;34m.\u001b[0m\u001b[0mjoin\u001b[0m\u001b[0;34m(\u001b[0m\u001b[0mfolder_dir\u001b[0m\u001b[0;34m,\u001b[0m \u001b[0mfile_name\u001b[0m\u001b[0;34m)\u001b[0m\u001b[0;34m\u001b[0m\u001b[0;34m\u001b[0m\u001b[0m\n\u001b[1;32m    495\u001b[0m     \u001b[0;32mif\u001b[0m \u001b[0;32mnot\u001b[0m \u001b[0mos\u001b[0m\u001b[0;34m.\u001b[0m\u001b[0mpath\u001b[0m\u001b[0;34m.\u001b[0m\u001b[0mexists\u001b[0m\u001b[0;34m(\u001b[0m\u001b[0mfolder_dir\u001b[0m\u001b[0;34m)\u001b[0m\u001b[0;34m:\u001b[0m\u001b[0;34m\u001b[0m\u001b[0;34m\u001b[0m\u001b[0m\n\u001b[0;32m--> 496\u001b[0;31m         \u001b[0m_download\u001b[0m\u001b[0;34m(\u001b[0m\u001b[0mname\u001b[0m\u001b[0;34m)\u001b[0m\u001b[0;34m\u001b[0m\u001b[0;34m\u001b[0m\u001b[0m\n\u001b[0m\u001b[1;32m    497\u001b[0m \u001b[0;34m\u001b[0m\u001b[0m\n\u001b[1;32m    498\u001b[0m     \u001b[0;32mif\u001b[0m \u001b[0mreturn_path\u001b[0m\u001b[0;34m:\u001b[0m\u001b[0;34m\u001b[0m\u001b[0;34m\u001b[0m\u001b[0m\n",
            "\u001b[0;32m/usr/local/lib/python3.10/dist-packages/gensim/downloader.py\u001b[0m in \u001b[0;36m_download\u001b[0;34m(name)\u001b[0m\n\u001b[1;32m    394\u001b[0m         \u001b[0mfname\u001b[0m \u001b[0;34m=\u001b[0m \u001b[0;34m\"{fname}.gz\"\u001b[0m\u001b[0;34m.\u001b[0m\u001b[0mformat\u001b[0m\u001b[0;34m(\u001b[0m\u001b[0mfname\u001b[0m\u001b[0;34m=\u001b[0m\u001b[0mname\u001b[0m\u001b[0;34m)\u001b[0m\u001b[0;34m\u001b[0m\u001b[0;34m\u001b[0m\u001b[0m\n\u001b[1;32m    395\u001b[0m         \u001b[0mdst_path\u001b[0m \u001b[0;34m=\u001b[0m \u001b[0mos\u001b[0m\u001b[0;34m.\u001b[0m\u001b[0mpath\u001b[0m\u001b[0;34m.\u001b[0m\u001b[0mjoin\u001b[0m\u001b[0;34m(\u001b[0m\u001b[0mtmp_dir\u001b[0m\u001b[0;34m,\u001b[0m \u001b[0mfname\u001b[0m\u001b[0;34m)\u001b[0m\u001b[0;34m\u001b[0m\u001b[0;34m\u001b[0m\u001b[0m\n\u001b[0;32m--> 396\u001b[0;31m         \u001b[0murllib\u001b[0m\u001b[0;34m.\u001b[0m\u001b[0murlretrieve\u001b[0m\u001b[0;34m(\u001b[0m\u001b[0murl_data\u001b[0m\u001b[0;34m,\u001b[0m \u001b[0mdst_path\u001b[0m\u001b[0;34m,\u001b[0m \u001b[0mreporthook\u001b[0m\u001b[0;34m=\u001b[0m\u001b[0m_progress\u001b[0m\u001b[0;34m)\u001b[0m\u001b[0;34m\u001b[0m\u001b[0;34m\u001b[0m\u001b[0m\n\u001b[0m\u001b[1;32m    397\u001b[0m         \u001b[0;32mif\u001b[0m \u001b[0m_calculate_md5_checksum\u001b[0m\u001b[0;34m(\u001b[0m\u001b[0mdst_path\u001b[0m\u001b[0;34m)\u001b[0m \u001b[0;34m==\u001b[0m \u001b[0m_get_checksum\u001b[0m\u001b[0;34m(\u001b[0m\u001b[0mname\u001b[0m\u001b[0;34m)\u001b[0m\u001b[0;34m:\u001b[0m\u001b[0;34m\u001b[0m\u001b[0;34m\u001b[0m\u001b[0m\n\u001b[1;32m    398\u001b[0m             \u001b[0msys\u001b[0m\u001b[0;34m.\u001b[0m\u001b[0mstdout\u001b[0m\u001b[0;34m.\u001b[0m\u001b[0mwrite\u001b[0m\u001b[0;34m(\u001b[0m\u001b[0;34m\"\\n\"\u001b[0m\u001b[0;34m)\u001b[0m\u001b[0;34m\u001b[0m\u001b[0;34m\u001b[0m\u001b[0m\n",
            "\u001b[0;32m/usr/lib/python3.10/urllib/request.py\u001b[0m in \u001b[0;36murlretrieve\u001b[0;34m(url, filename, reporthook, data)\u001b[0m\n\u001b[1;32m    278\u001b[0m \u001b[0;34m\u001b[0m\u001b[0m\n\u001b[1;32m    279\u001b[0m     \u001b[0;32mif\u001b[0m \u001b[0msize\u001b[0m \u001b[0;34m>=\u001b[0m \u001b[0;36m0\u001b[0m \u001b[0;32mand\u001b[0m \u001b[0mread\u001b[0m \u001b[0;34m<\u001b[0m \u001b[0msize\u001b[0m\u001b[0;34m:\u001b[0m\u001b[0;34m\u001b[0m\u001b[0;34m\u001b[0m\u001b[0m\n\u001b[0;32m--> 280\u001b[0;31m         raise ContentTooShortError(\n\u001b[0m\u001b[1;32m    281\u001b[0m             \u001b[0;34m\"retrieval incomplete: got only %i out of %i bytes\"\u001b[0m\u001b[0;34m\u001b[0m\u001b[0;34m\u001b[0m\u001b[0m\n\u001b[1;32m    282\u001b[0m             % (read, size), result)\n",
            "\u001b[0;31mContentTooShortError\u001b[0m: <urlopen error retrieval incomplete: got only 68418913 out of 208427381 bytes>"
          ]
        }
      ]
    },
    {
      "cell_type": "code",
      "execution_count": null,
      "metadata": {
        "id": "_ilFnb7bqggw"
      },
      "outputs": [],
      "source": [
        "file_path = \"df_vac.xlsx\"\n",
        "df_vacancies = pd.read_excel(file_path)\n",
        "df_vacancies.head(2)"
      ]
    },
    {
      "cell_type": "code",
      "source": [
        "file_path = \"df_resumes.xlsx\"\n",
        "df_resumes = pd.read_excel(file_path)\n",
        "df_resumes.head(2)"
      ],
      "metadata": {
        "id": "jrs3elcUrWbR"
      },
      "execution_count": null,
      "outputs": []
    },
    {
      "cell_type": "code",
      "source": [
        "file_path = \"ratings_df.xlsx\"\n",
        "df_ratings = pd.read_excel(file_path)\n",
        "df_ratings.head(2)"
      ],
      "metadata": {
        "colab": {
          "base_uri": "https://localhost:8080/",
          "height": 112
        },
        "id": "uZ2m6ddP0G1w",
        "outputId": "e5da2d51-99da-4c44-f703-8e869e21675b"
      },
      "execution_count": null,
      "outputs": [
        {
          "output_type": "execute_result",
          "data": {
            "text/plain": [
              "   id_resume  id_vacancy  rating\n",
              "0          1        3856       1\n",
              "1          1        1242       1"
            ],
            "text/html": [
              "\n",
              "  <div id=\"df-a9dbd5c5-e9b2-41a6-ab05-646c1506100d\" class=\"colab-df-container\">\n",
              "    <div>\n",
              "<style scoped>\n",
              "    .dataframe tbody tr th:only-of-type {\n",
              "        vertical-align: middle;\n",
              "    }\n",
              "\n",
              "    .dataframe tbody tr th {\n",
              "        vertical-align: top;\n",
              "    }\n",
              "\n",
              "    .dataframe thead th {\n",
              "        text-align: right;\n",
              "    }\n",
              "</style>\n",
              "<table border=\"1\" class=\"dataframe\">\n",
              "  <thead>\n",
              "    <tr style=\"text-align: right;\">\n",
              "      <th></th>\n",
              "      <th>id_resume</th>\n",
              "      <th>id_vacancy</th>\n",
              "      <th>rating</th>\n",
              "    </tr>\n",
              "  </thead>\n",
              "  <tbody>\n",
              "    <tr>\n",
              "      <th>0</th>\n",
              "      <td>1</td>\n",
              "      <td>3856</td>\n",
              "      <td>1</td>\n",
              "    </tr>\n",
              "    <tr>\n",
              "      <th>1</th>\n",
              "      <td>1</td>\n",
              "      <td>1242</td>\n",
              "      <td>1</td>\n",
              "    </tr>\n",
              "  </tbody>\n",
              "</table>\n",
              "</div>\n",
              "    <div class=\"colab-df-buttons\">\n",
              "\n",
              "  <div class=\"colab-df-container\">\n",
              "    <button class=\"colab-df-convert\" onclick=\"convertToInteractive('df-a9dbd5c5-e9b2-41a6-ab05-646c1506100d')\"\n",
              "            title=\"Convert this dataframe to an interactive table.\"\n",
              "            style=\"display:none;\">\n",
              "\n",
              "  <svg xmlns=\"http://www.w3.org/2000/svg\" height=\"24px\" viewBox=\"0 -960 960 960\">\n",
              "    <path d=\"M120-120v-720h720v720H120Zm60-500h600v-160H180v160Zm220 220h160v-160H400v160Zm0 220h160v-160H400v160ZM180-400h160v-160H180v160Zm440 0h160v-160H620v160ZM180-180h160v-160H180v160Zm440 0h160v-160H620v160Z\"/>\n",
              "  </svg>\n",
              "    </button>\n",
              "\n",
              "  <style>\n",
              "    .colab-df-container {\n",
              "      display:flex;\n",
              "      gap: 12px;\n",
              "    }\n",
              "\n",
              "    .colab-df-convert {\n",
              "      background-color: #E8F0FE;\n",
              "      border: none;\n",
              "      border-radius: 50%;\n",
              "      cursor: pointer;\n",
              "      display: none;\n",
              "      fill: #1967D2;\n",
              "      height: 32px;\n",
              "      padding: 0 0 0 0;\n",
              "      width: 32px;\n",
              "    }\n",
              "\n",
              "    .colab-df-convert:hover {\n",
              "      background-color: #E2EBFA;\n",
              "      box-shadow: 0px 1px 2px rgba(60, 64, 67, 0.3), 0px 1px 3px 1px rgba(60, 64, 67, 0.15);\n",
              "      fill: #174EA6;\n",
              "    }\n",
              "\n",
              "    .colab-df-buttons div {\n",
              "      margin-bottom: 4px;\n",
              "    }\n",
              "\n",
              "    [theme=dark] .colab-df-convert {\n",
              "      background-color: #3B4455;\n",
              "      fill: #D2E3FC;\n",
              "    }\n",
              "\n",
              "    [theme=dark] .colab-df-convert:hover {\n",
              "      background-color: #434B5C;\n",
              "      box-shadow: 0px 1px 3px 1px rgba(0, 0, 0, 0.15);\n",
              "      filter: drop-shadow(0px 1px 2px rgba(0, 0, 0, 0.3));\n",
              "      fill: #FFFFFF;\n",
              "    }\n",
              "  </style>\n",
              "\n",
              "    <script>\n",
              "      const buttonEl =\n",
              "        document.querySelector('#df-a9dbd5c5-e9b2-41a6-ab05-646c1506100d button.colab-df-convert');\n",
              "      buttonEl.style.display =\n",
              "        google.colab.kernel.accessAllowed ? 'block' : 'none';\n",
              "\n",
              "      async function convertToInteractive(key) {\n",
              "        const element = document.querySelector('#df-a9dbd5c5-e9b2-41a6-ab05-646c1506100d');\n",
              "        const dataTable =\n",
              "          await google.colab.kernel.invokeFunction('convertToInteractive',\n",
              "                                                    [key], {});\n",
              "        if (!dataTable) return;\n",
              "\n",
              "        const docLinkHtml = 'Like what you see? Visit the ' +\n",
              "          '<a target=\"_blank\" href=https://colab.research.google.com/notebooks/data_table.ipynb>data table notebook</a>'\n",
              "          + ' to learn more about interactive tables.';\n",
              "        element.innerHTML = '';\n",
              "        dataTable['output_type'] = 'display_data';\n",
              "        await google.colab.output.renderOutput(dataTable, element);\n",
              "        const docLink = document.createElement('div');\n",
              "        docLink.innerHTML = docLinkHtml;\n",
              "        element.appendChild(docLink);\n",
              "      }\n",
              "    </script>\n",
              "  </div>\n",
              "\n",
              "\n",
              "<div id=\"df-f3febfdd-cc7f-4737-b29a-47bec17204f0\">\n",
              "  <button class=\"colab-df-quickchart\" onclick=\"quickchart('df-f3febfdd-cc7f-4737-b29a-47bec17204f0')\"\n",
              "            title=\"Suggest charts\"\n",
              "            style=\"display:none;\">\n",
              "\n",
              "<svg xmlns=\"http://www.w3.org/2000/svg\" height=\"24px\"viewBox=\"0 0 24 24\"\n",
              "     width=\"24px\">\n",
              "    <g>\n",
              "        <path d=\"M19 3H5c-1.1 0-2 .9-2 2v14c0 1.1.9 2 2 2h14c1.1 0 2-.9 2-2V5c0-1.1-.9-2-2-2zM9 17H7v-7h2v7zm4 0h-2V7h2v10zm4 0h-2v-4h2v4z\"/>\n",
              "    </g>\n",
              "</svg>\n",
              "  </button>\n",
              "\n",
              "<style>\n",
              "  .colab-df-quickchart {\n",
              "      --bg-color: #E8F0FE;\n",
              "      --fill-color: #1967D2;\n",
              "      --hover-bg-color: #E2EBFA;\n",
              "      --hover-fill-color: #174EA6;\n",
              "      --disabled-fill-color: #AAA;\n",
              "      --disabled-bg-color: #DDD;\n",
              "  }\n",
              "\n",
              "  [theme=dark] .colab-df-quickchart {\n",
              "      --bg-color: #3B4455;\n",
              "      --fill-color: #D2E3FC;\n",
              "      --hover-bg-color: #434B5C;\n",
              "      --hover-fill-color: #FFFFFF;\n",
              "      --disabled-bg-color: #3B4455;\n",
              "      --disabled-fill-color: #666;\n",
              "  }\n",
              "\n",
              "  .colab-df-quickchart {\n",
              "    background-color: var(--bg-color);\n",
              "    border: none;\n",
              "    border-radius: 50%;\n",
              "    cursor: pointer;\n",
              "    display: none;\n",
              "    fill: var(--fill-color);\n",
              "    height: 32px;\n",
              "    padding: 0;\n",
              "    width: 32px;\n",
              "  }\n",
              "\n",
              "  .colab-df-quickchart:hover {\n",
              "    background-color: var(--hover-bg-color);\n",
              "    box-shadow: 0 1px 2px rgba(60, 64, 67, 0.3), 0 1px 3px 1px rgba(60, 64, 67, 0.15);\n",
              "    fill: var(--button-hover-fill-color);\n",
              "  }\n",
              "\n",
              "  .colab-df-quickchart-complete:disabled,\n",
              "  .colab-df-quickchart-complete:disabled:hover {\n",
              "    background-color: var(--disabled-bg-color);\n",
              "    fill: var(--disabled-fill-color);\n",
              "    box-shadow: none;\n",
              "  }\n",
              "\n",
              "  .colab-df-spinner {\n",
              "    border: 2px solid var(--fill-color);\n",
              "    border-color: transparent;\n",
              "    border-bottom-color: var(--fill-color);\n",
              "    animation:\n",
              "      spin 1s steps(1) infinite;\n",
              "  }\n",
              "\n",
              "  @keyframes spin {\n",
              "    0% {\n",
              "      border-color: transparent;\n",
              "      border-bottom-color: var(--fill-color);\n",
              "      border-left-color: var(--fill-color);\n",
              "    }\n",
              "    20% {\n",
              "      border-color: transparent;\n",
              "      border-left-color: var(--fill-color);\n",
              "      border-top-color: var(--fill-color);\n",
              "    }\n",
              "    30% {\n",
              "      border-color: transparent;\n",
              "      border-left-color: var(--fill-color);\n",
              "      border-top-color: var(--fill-color);\n",
              "      border-right-color: var(--fill-color);\n",
              "    }\n",
              "    40% {\n",
              "      border-color: transparent;\n",
              "      border-right-color: var(--fill-color);\n",
              "      border-top-color: var(--fill-color);\n",
              "    }\n",
              "    60% {\n",
              "      border-color: transparent;\n",
              "      border-right-color: var(--fill-color);\n",
              "    }\n",
              "    80% {\n",
              "      border-color: transparent;\n",
              "      border-right-color: var(--fill-color);\n",
              "      border-bottom-color: var(--fill-color);\n",
              "    }\n",
              "    90% {\n",
              "      border-color: transparent;\n",
              "      border-bottom-color: var(--fill-color);\n",
              "    }\n",
              "  }\n",
              "</style>\n",
              "\n",
              "  <script>\n",
              "    async function quickchart(key) {\n",
              "      const quickchartButtonEl =\n",
              "        document.querySelector('#' + key + ' button');\n",
              "      quickchartButtonEl.disabled = true;  // To prevent multiple clicks.\n",
              "      quickchartButtonEl.classList.add('colab-df-spinner');\n",
              "      try {\n",
              "        const charts = await google.colab.kernel.invokeFunction(\n",
              "            'suggestCharts', [key], {});\n",
              "      } catch (error) {\n",
              "        console.error('Error during call to suggestCharts:', error);\n",
              "      }\n",
              "      quickchartButtonEl.classList.remove('colab-df-spinner');\n",
              "      quickchartButtonEl.classList.add('colab-df-quickchart-complete');\n",
              "    }\n",
              "    (() => {\n",
              "      let quickchartButtonEl =\n",
              "        document.querySelector('#df-f3febfdd-cc7f-4737-b29a-47bec17204f0 button');\n",
              "      quickchartButtonEl.style.display =\n",
              "        google.colab.kernel.accessAllowed ? 'block' : 'none';\n",
              "    })();\n",
              "  </script>\n",
              "</div>\n",
              "    </div>\n",
              "  </div>\n"
            ],
            "application/vnd.google.colaboratory.intrinsic+json": {
              "type": "dataframe",
              "variable_name": "df_ratings",
              "summary": "{\n  \"name\": \"df_ratings\",\n  \"rows\": 38283,\n  \"fields\": [\n    {\n      \"column\": \"id_resume\",\n      \"properties\": {\n        \"dtype\": \"number\",\n        \"std\": 1578,\n        \"min\": 1,\n        \"max\": 5469,\n        \"num_unique_values\": 5469,\n        \"samples\": [\n          4435,\n          3810,\n          4038\n        ],\n        \"semantic_type\": \"\",\n        \"description\": \"\"\n      }\n    },\n    {\n      \"column\": \"id_vacancy\",\n      \"properties\": {\n        \"dtype\": \"number\",\n        \"std\": 2534,\n        \"min\": 1,\n        \"max\": 8767,\n        \"num_unique_values\": 8671,\n        \"samples\": [\n          7094,\n          6414,\n          2870\n        ],\n        \"semantic_type\": \"\",\n        \"description\": \"\"\n      }\n    },\n    {\n      \"column\": \"rating\",\n      \"properties\": {\n        \"dtype\": \"number\",\n        \"std\": 0,\n        \"min\": 0,\n        \"max\": 4,\n        \"num_unique_values\": 5,\n        \"samples\": [\n          0,\n          4,\n          3\n        ],\n        \"semantic_type\": \"\",\n        \"description\": \"\"\n      }\n    }\n  ]\n}"
            }
          },
          "metadata": {},
          "execution_count": 4
        }
      ]
    },
    {
      "cell_type": "code",
      "source": [
        "pip install quantecon"
      ],
      "metadata": {
        "colab": {
          "base_uri": "https://localhost:8080/"
        },
        "id": "FwEEGVpmkWSv",
        "outputId": "5c9db225-012a-4ab8-f6d0-f52bb0ab1ddc"
      },
      "execution_count": null,
      "outputs": [
        {
          "output_type": "stream",
          "name": "stdout",
          "text": [
            "Collecting quantecon\n",
            "  Downloading quantecon-0.7.2-py3-none-any.whl (215 kB)\n",
            "\u001b[2K     \u001b[90m━━━━━━━━━━━━━━━━━━━━━━━━━━━━━━━━━━━━━━━━\u001b[0m \u001b[32m215.4/215.4 kB\u001b[0m \u001b[31m2.1 MB/s\u001b[0m eta \u001b[36m0:00:00\u001b[0m\n",
            "\u001b[?25hRequirement already satisfied: numba>=0.49.0 in /usr/local/lib/python3.10/dist-packages (from quantecon) (0.58.1)\n",
            "Requirement already satisfied: numpy>=1.17.0 in /usr/local/lib/python3.10/dist-packages (from quantecon) (1.25.2)\n",
            "Requirement already satisfied: requests in /usr/local/lib/python3.10/dist-packages (from quantecon) (2.31.0)\n",
            "Requirement already satisfied: scipy>=1.5.0 in /usr/local/lib/python3.10/dist-packages (from quantecon) (1.11.4)\n",
            "Requirement already satisfied: sympy in /usr/local/lib/python3.10/dist-packages (from quantecon) (1.12)\n",
            "Requirement already satisfied: llvmlite<0.42,>=0.41.0dev0 in /usr/local/lib/python3.10/dist-packages (from numba>=0.49.0->quantecon) (0.41.1)\n",
            "Requirement already satisfied: charset-normalizer<4,>=2 in /usr/local/lib/python3.10/dist-packages (from requests->quantecon) (3.3.2)\n",
            "Requirement already satisfied: idna<4,>=2.5 in /usr/local/lib/python3.10/dist-packages (from requests->quantecon) (3.7)\n",
            "Requirement already satisfied: urllib3<3,>=1.21.1 in /usr/local/lib/python3.10/dist-packages (from requests->quantecon) (2.0.7)\n",
            "Requirement already satisfied: certifi>=2017.4.17 in /usr/local/lib/python3.10/dist-packages (from requests->quantecon) (2024.2.2)\n",
            "Requirement already satisfied: mpmath>=0.19 in /usr/local/lib/python3.10/dist-packages (from sympy->quantecon) (1.3.0)\n",
            "Installing collected packages: quantecon\n",
            "Successfully installed quantecon-0.7.2\n"
          ]
        }
      ]
    },
    {
      "cell_type": "code",
      "source": [],
      "metadata": {
        "id": "5c30fgPGPTze"
      },
      "execution_count": null,
      "outputs": []
    },
    {
      "cell_type": "code",
      "source": [
        "import matplotlib.pyplot as plt\n",
        "plt.rcParams[\"figure.figsize\"] = (11, 5)  #set default figure size\n",
        "import numpy as np\n",
        "from numba import jit, float64\n",
        "from numba.experimental import jitclass\n",
        "import quantecon as qe\n",
        "from quantecon.distributions import BetaBinomial"
      ],
      "metadata": {
        "id": "dEGBeGWbruRL"
      },
      "execution_count": null,
      "outputs": []
    },
    {
      "cell_type": "markdown",
      "source": [
        "At time\n",
        "t\n",
        ", our worker has two choices:\n",
        "\n",
        "Accept the offer and work permanently at constant wage\n",
        "W\n",
        "t\n",
        ".\n",
        "\n",
        "Reject the offer, receive unemployment compensation\n",
        "c\n",
        ", and reconsider next period.\n",
        "\n",
        "The discount factor is\n",
        "β\n",
        " lies in\n",
        "(\n",
        "0\n",
        ",\n",
        "1\n",
        ")\n",
        ". The smaller is\n",
        "β\n",
        ", the more the worker discounts future utility relative to current utility.\n"
      ],
      "metadata": {
        "id": "7m1nOrNDwHhk"
      }
    },
    {
      "cell_type": "markdown",
      "source": [
        "Variable\n",
        "Y\n",
        "t\n",
        " is income, equal to\n",
        "\n",
        "his wage\n",
        "W\n",
        "t\n",
        " when employed\n",
        "unemployment compensation\n",
        "c\n",
        " when unemployed\n",
        "he worker faces a trade-off:\n",
        "\n",
        "Waiting too long for a good offer is costly, since the future is discounted.\n",
        "Accepting too early is costly, since better offers might arrive in the future."
      ],
      "metadata": {
        "id": "b6Z235_swWvv"
      }
    },
    {
      "cell_type": "markdown",
      "source": [
        "V\n",
        " must satisfy the Bellman Equation:\n",
        "the first term is the lifetime payoff from accepting the current offer\n",
        "the second term is the continuation value equal to the lifetime payoff from rejecting the current offer\n"
      ],
      "metadata": {
        "id": "w2tIGeLswkOQ"
      }
    },
    {
      "cell_type": "markdown",
      "source": [
        "V\n",
        "(\n",
        "w\n",
        ")\n",
        "=\n",
        "max\n",
        "{\n",
        "w\n",
        "1\n",
        "−\n",
        "β\n",
        ",\n",
        "c\n",
        "+\n",
        "β\n",
        "n\n",
        "∑\n",
        "i\n",
        "=\n",
        "1\n",
        "\n",
        "V\n",
        "(\n",
        "w\n",
        "i\n",
        ")\n",
        "p\n",
        "i\n",
        "}\n"
      ],
      "metadata": {
        "id": "YkxOKfkWwdQt"
      }
    },
    {
      "cell_type": "markdown",
      "source": [
        "Policy of acception and rejection ：\n",
        "\n",
        "σ\n",
        "(\n",
        "w\n",
        ")\n",
        ":=\n",
        "1\n",
        "{\n",
        "w\n",
        "1\n",
        "−\n",
        "β\n",
        "≥\n",
        "c\n",
        "+\n",
        "β\n",
        "n\n",
        "∑\n",
        "i\n",
        "=\n",
        "1\n",
        "V\n",
        "(\n",
        "w\n",
        "i\n",
        ")\n",
        "p\n",
        "i\n",
        "}\n",
        "\n"
      ],
      "metadata": {
        "id": "JHIR2AolxBIw"
      }
    },
    {
      "cell_type": "markdown",
      "source": [
        "Computing the Value Functions"
      ],
      "metadata": {
        "id": "wixmZGW_wwqI"
      }
    },
    {
      "cell_type": "markdown",
      "source": [
        "Агент должен согласиться тогда и только тогда, когда текущее предложение о заработной плате превышает заработную плату при безработице (0) или его минимальную потребность.\n",
        "\n",
        "Очевидно, что мы можем рассчитать эту заработную плату, если сможем вычислить функцию стоимости."
      ],
      "metadata": {
        "id": "Yo23tgIOxUAM"
      }
    },
    {
      "cell_type": "code",
      "source": [
        "from numba import jit, float64\n",
        "from numba.experimental import jitclass\n",
        "import quantecon as qe\n",
        "from quantecon.distributions import BetaBinomial"
      ],
      "metadata": {
        "id": "dSaRG_OCwv5Z"
      },
      "execution_count": null,
      "outputs": []
    },
    {
      "cell_type": "code",
      "source": [
        "df_vacancies[\"company_sphere\"].value_counts()"
      ],
      "metadata": {
        "colab": {
          "base_uri": "https://localhost:8080/"
        },
        "id": "jef5s0XLwc1Z",
        "outputId": "9d401a6a-1a49-4f46-f87d-d8c683bf9adc"
      },
      "execution_count": null,
      "outputs": [
        {
          "output_type": "execute_result",
          "data": {
            "text/plain": [
              "company_sphere\n",
              "Другое                   4674\n",
              "Инженерно-техническая    3056\n",
              "Банки IT финансы          324\n",
              "ИП                        274\n",
              "Государственная сфера     168\n",
              "Торговля                  163\n",
              "IT                         57\n",
              "Консалтинг                 18\n",
              "Телеком                    12\n",
              "Туризм                      9\n",
              "Розничная торговля          7\n",
              "Юридические фирмы           5\n",
              "Name: count, dtype: int64"
            ]
          },
          "metadata": {},
          "execution_count": 8
        }
      ]
    },
    {
      "cell_type": "code",
      "source": [
        "df_merged = pd.merge(df_vacancies, df_ratings, on='id_vacancy', how='outer').fillna(0)\n",
        "df_merged.head(4)\n",
        "alpha = df_merged.groupby('company_sphere')['rating'].agg(lambda x: sum(x > 2) / len(x))\n",
        "print(alpha)"
      ],
      "metadata": {
        "colab": {
          "base_uri": "https://localhost:8080/",
          "height": 201
        },
        "id": "v_5s9GxzrWdB",
        "outputId": "afe1db4d-1b57-4dec-fe61-1f3e73642457"
      },
      "execution_count": null,
      "outputs": [
        {
          "output_type": "error",
          "ename": "NameError",
          "evalue": "name 'pd' is not defined",
          "traceback": [
            "\u001b[0;31m---------------------------------------------------------------------------\u001b[0m",
            "\u001b[0;31mNameError\u001b[0m                                 Traceback (most recent call last)",
            "\u001b[0;32m<ipython-input-1-b8116be5e1ad>\u001b[0m in \u001b[0;36m<cell line: 1>\u001b[0;34m()\u001b[0m\n\u001b[0;32m----> 1\u001b[0;31m \u001b[0mdf_merged\u001b[0m \u001b[0;34m=\u001b[0m \u001b[0mpd\u001b[0m\u001b[0;34m.\u001b[0m\u001b[0mmerge\u001b[0m\u001b[0;34m(\u001b[0m\u001b[0mdf_vacancies\u001b[0m\u001b[0;34m,\u001b[0m \u001b[0mdf_ratings\u001b[0m\u001b[0;34m,\u001b[0m \u001b[0mon\u001b[0m\u001b[0;34m=\u001b[0m\u001b[0;34m'id_vacancy'\u001b[0m\u001b[0;34m,\u001b[0m \u001b[0mhow\u001b[0m\u001b[0;34m=\u001b[0m\u001b[0;34m'outer'\u001b[0m\u001b[0;34m)\u001b[0m\u001b[0;34m.\u001b[0m\u001b[0mfillna\u001b[0m\u001b[0;34m(\u001b[0m\u001b[0;36m0\u001b[0m\u001b[0;34m)\u001b[0m\u001b[0;34m\u001b[0m\u001b[0;34m\u001b[0m\u001b[0m\n\u001b[0m\u001b[1;32m      2\u001b[0m \u001b[0mdf_merged\u001b[0m\u001b[0;34m.\u001b[0m\u001b[0mhead\u001b[0m\u001b[0;34m(\u001b[0m\u001b[0;36m4\u001b[0m\u001b[0;34m)\u001b[0m\u001b[0;34m\u001b[0m\u001b[0;34m\u001b[0m\u001b[0m\n\u001b[1;32m      3\u001b[0m \u001b[0malpha\u001b[0m \u001b[0;34m=\u001b[0m \u001b[0mdf_merged\u001b[0m\u001b[0;34m.\u001b[0m\u001b[0mgroupby\u001b[0m\u001b[0;34m(\u001b[0m\u001b[0;34m'company_sphere'\u001b[0m\u001b[0;34m)\u001b[0m\u001b[0;34m[\u001b[0m\u001b[0;34m'rating'\u001b[0m\u001b[0;34m]\u001b[0m\u001b[0;34m.\u001b[0m\u001b[0magg\u001b[0m\u001b[0;34m(\u001b[0m\u001b[0;32mlambda\u001b[0m \u001b[0mx\u001b[0m\u001b[0;34m:\u001b[0m \u001b[0msum\u001b[0m\u001b[0;34m(\u001b[0m\u001b[0mx\u001b[0m \u001b[0;34m>\u001b[0m \u001b[0;36m1\u001b[0m\u001b[0;34m)\u001b[0m \u001b[0;34m/\u001b[0m \u001b[0mlen\u001b[0m\u001b[0;34m(\u001b[0m\u001b[0mx\u001b[0m\u001b[0;34m)\u001b[0m\u001b[0;34m)\u001b[0m\u001b[0;34m\u001b[0m\u001b[0;34m\u001b[0m\u001b[0m\n\u001b[1;32m      4\u001b[0m \u001b[0mprint\u001b[0m\u001b[0;34m(\u001b[0m\u001b[0malpha\u001b[0m\u001b[0;34m)\u001b[0m\u001b[0;34m\u001b[0m\u001b[0;34m\u001b[0m\u001b[0m\n",
            "\u001b[0;31mNameError\u001b[0m: name 'pd' is not defined"
          ]
        }
      ]
    },
    {
      "cell_type": "code",
      "source": [
        "alpha_list = list(alpha.values)\n",
        "print(alpha_list)"
      ],
      "metadata": {
        "colab": {
          "base_uri": "https://localhost:8080/"
        },
        "id": "JvVo1tZ81JMA",
        "outputId": "7a9af749-d6ff-4fdc-f31d-a0ef863818bc"
      },
      "execution_count": null,
      "outputs": [
        {
          "output_type": "stream",
          "name": "stdout",
          "text": [
            "[0.02834008097165992, 0.08637640449438203, 0.058091286307053944, 0.05426507905524107, 0.04030226700251889, 0.044226595824290955, 0.0, 0.03333333333333333, 0.08108108108108109, 0.0743801652892562, 0.023809523809523808, 0.0]\n"
          ]
        }
      ]
    },
    {
      "cell_type": "code",
      "source": [
        "betta =[6.7,4.5,1.9,3.8,0.8,2.8,0.87,0.56,0.67,1.2,0.9,0.23,0.98]"
      ],
      "metadata": {
        "id": "SFz_pVbW2S83"
      },
      "execution_count": null,
      "outputs": []
    },
    {
      "cell_type": "code",
      "source": [
        "n= df_vacancies[\"company_sphere\"].value_counts().values\n",
        "n"
      ],
      "metadata": {
        "colab": {
          "base_uri": "https://localhost:8080/"
        },
        "id": "y5mh6TAg3Gta",
        "outputId": "7b612e9e-0f0f-48fd-8439-a05e1e2326d4"
      },
      "execution_count": null,
      "outputs": [
        {
          "output_type": "execute_result",
          "data": {
            "text/plain": [
              "array([4674, 3056,  324,  274,  168,  163,   57,   18,   12,    9,    7,\n",
              "          5])"
            ]
          },
          "metadata": {},
          "execution_count": 12
        }
      ]
    },
    {
      "cell_type": "code",
      "source": [
        "q_values = [BetaBinomial(n, a, b).pdf() for n,a,b in zip(n, alpha_list, betta)]"
      ],
      "metadata": {
        "colab": {
          "base_uri": "https://localhost:8080/"
        },
        "id": "cdoNb42D3JqK",
        "outputId": "16a3b394-f56d-478c-a2ce-94afcec27fe1"
      },
      "execution_count": null,
      "outputs": [
        {
          "output_type": "stream",
          "name": "stderr",
          "text": [
            "/usr/local/lib/python3.10/dist-packages/quantecon/distributions.py:95: RuntimeWarning: invalid value encountered in multiply\n",
            "  probs = binom(n, k) * beta(k + a, n - k + b) / beta(a, b)\n",
            "/usr/local/lib/python3.10/dist-packages/quantecon/distributions.py:95: RuntimeWarning: invalid value encountered in divide\n",
            "  probs = binom(n, k) * beta(k + a, n - k + b) / beta(a, b)\n"
          ]
        }
      ]
    },
    {
      "cell_type": "code",
      "source": [
        "grouped = df_vacancies.groupby('company_sphere').agg({'Low_salary': ['mean', 'max']})\n",
        "min_values = [round(grouped.loc[i, ('Low_salary', 'mean')]) for i in grouped.index]\n",
        "max_values = [round(grouped.loc[i, ('Low_salary', 'max')]) for i in grouped.index]\n",
        "\n",
        "print(min_values)\n",
        "print(max_values)"
      ],
      "metadata": {
        "colab": {
          "base_uri": "https://localhost:8080/"
        },
        "id": "pFjv8z3v5dBF",
        "outputId": "df94be5e-807a-4942-ab1c-7fcd85bde9d0"
      },
      "execution_count": null,
      "outputs": [
        {
          "output_type": "stream",
          "name": "stdout",
          "text": [
            "[17895, 12765, 24315, 51506, 71967, 66211, 115889, 84286, 38333, 42755, 31111, 40000]\n",
            "[100000, 250000, 200000, 850000, 800000, 700000, 280000, 175000, 200000, 260000, 120000, 70000]\n"
          ]
        }
      ]
    },
    {
      "cell_type": "code",
      "source": [
        "\n",
        "w_min, w_max = min_values, max_values\n",
        "for i in range(len(w_min)):\n",
        "   w_default = np.linspace(w_min[i], w_max[i], w_min[i]+1)\n",
        "   print(w_default)"
      ],
      "metadata": {
        "colab": {
          "base_uri": "https://localhost:8080/"
        },
        "id": "iixXMtwg4CfM",
        "outputId": "b8cdd8f8-1a34-4562-ea38-27b3479e8828"
      },
      "execution_count": null,
      "outputs": [
        {
          "output_type": "stream",
          "name": "stdout",
          "text": [
            "[ 17895.          17899.58815312  17904.17630623 ...  99990.82369377\n",
            "  99995.41184688 100000.        ]\n",
            "[ 12765.          12783.58480219  12802.16960439 ... 249962.83039561\n",
            " 249981.41519781 250000.        ]\n",
            "[ 24315.          24322.22537528  24329.45075057 ... 199985.54924943\n",
            " 199992.77462472 200000.        ]\n",
            "[ 51506.          51521.5029317   51537.00586339 ... 849968.99413661\n",
            " 849984.4970683  850000.        ]\n",
            "[ 71967.          71977.11620604  71987.23241208 ... 799979.76758792\n",
            " 799989.88379396 800000.        ]\n",
            "[ 66211.          66220.57226141  66230.14452281 ... 699980.85547719\n",
            " 699990.42773859 700000.        ]\n",
            "[115889.         115890.41610507 115891.83221013 ... 279997.16778987\n",
            " 279998.58389493 280000.        ]\n",
            "[ 84286.          84287.07626415  84288.1525283  ... 174997.8474717\n",
            " 174998.92373585 175000.        ]\n",
            "[ 38333.          38337.21743667  38341.43487335 ... 199991.56512665\n",
            " 199995.78256333 200000.        ]\n",
            "[ 42755.         42760.0811601  42765.1623202 ... 259989.8376798\n",
            " 259994.9188399 260000.       ]\n",
            "[ 31111.          31113.85715663  31116.71431327 ... 119994.28568673\n",
            " 119997.14284337 120000.        ]\n",
            "[40000.   40000.75 40001.5  ... 69998.5  69999.25 70000.  ]\n"
          ]
        }
      ]
    },
    {
      "cell_type": "code",
      "source": [
        "w_default_set = []\n",
        "\n",
        "for i in range(len(w_min)):\n",
        "  w_default = list(np.linspace(w_min[i], w_max[i], w_min[i]+1))\n",
        "  w_default_set.append(w_default)\n",
        "\n",
        "print(w_default_set)"
      ],
      "metadata": {
        "colab": {
          "base_uri": "https://localhost:8080/"
        },
        "id": "SgRaTWSH7jBz",
        "outputId": "0a3d6386-6f58-4eda-bab7-4207e567b2fb"
      },
      "execution_count": null,
      "outputs": [
        {
          "output_type": "stream",
          "name": "stderr",
          "text": [
            "IOPub data rate exceeded.\n",
            "The notebook server will temporarily stop sending output\n",
            "to the client in order to avoid crashing it.\n",
            "To change this limit, set the config variable\n",
            "`--NotebookApp.iopub_data_rate_limit`.\n",
            "\n",
            "Current values:\n",
            "NotebookApp.iopub_data_rate_limit=1000000.0 (bytes/sec)\n",
            "NotebookApp.rate_limit_window=3.0 (secs)\n",
            "\n"
          ]
        }
      ]
    },
    {
      "cell_type": "code",
      "source": [
        "print(len(w_default_set))\n",
        "print(len(q_values))"
      ],
      "metadata": {
        "colab": {
          "base_uri": "https://localhost:8080/"
        },
        "id": "PQGehHM89Y4G",
        "outputId": "d78d1c93-ef1a-4dbb-a130-97db2e577483"
      },
      "execution_count": null,
      "outputs": [
        {
          "output_type": "stream",
          "name": "stdout",
          "text": [
            "12\n",
            "12\n"
          ]
        }
      ]
    },
    {
      "cell_type": "markdown",
      "source": [
        "Оценка вероятности найма"
      ],
      "metadata": {
        "id": "3t4m0lC2A4y-"
      }
    },
    {
      "cell_type": "code",
      "source": [
        "step = 12\n",
        "for i in range(0, 12, step):\n",
        "   w_default_set_trimmed = w_default_set[0][i:i+step]\n",
        "   q_values_trimmed = q_values[0][i:i+step]\n",
        "   fig, ax = plt.subplots()\n",
        "   ax.plot(w_default_set_trimmed, q_values_trimmed, '-o', label='$q(w(i))$')\n",
        "   ax.set_xlabel('wages')\n",
        "   ax.set_ylabel('probabilities')\n",
        "   ax.set_title('IT sphere')\n",
        "\n",
        "   plt.show()"
      ],
      "metadata": {
        "colab": {
          "base_uri": "https://localhost:8080/",
          "height": 487
        },
        "id": "yxnRHYqV-plq",
        "outputId": "dfcbf634-cbc2-4e31-acb1-125a137685e8"
      },
      "execution_count": null,
      "outputs": [
        {
          "output_type": "display_data",
          "data": {
            "text/plain": [
              "<Figure size 1100x500 with 1 Axes>"
            ],
            "image/png": "[encoded data removed]"
          },
          "metadata": {}
        }
      ]
    },
    {
      "cell_type": "code",
      "source": [
        "step = 12\n",
        "for i in range(0, 12, step):\n",
        "   w_default_set_trimmed = w_default_set[1][i:i+step]\n",
        "   q_values_trimmed = q_values[1][i:i+step]\n",
        "   fig, ax = plt.subplots()\n",
        "   ax.plot(w_default_set_trimmed, q_values_trimmed, '-o', label='$q(w(i))$')\n",
        "   ax.set_xlabel('wages')\n",
        "   ax.set_ylabel('probabilities')\n",
        "   ax.set_title('Банки/IT финансы ')\n",
        "   plt.show()"
      ],
      "metadata": {
        "colab": {
          "base_uri": "https://localhost:8080/",
          "height": 487
        },
        "id": "qAUL5_fPBbmC",
        "outputId": "753abafe-8237-4aec-e35d-0177c66d63c1"
      },
      "execution_count": null,
      "outputs": [
        {
          "output_type": "display_data",
          "data": {
            "text/plain": [
              "<Figure size 1100x500 with 1 Axes>"
            ],
            "image/png": "[encoded data removed]"
          },
          "metadata": {}
        }
      ]
    },
    {
      "cell_type": "code",
      "source": [
        "step = 8\n",
        "for i in range(0, 1, step):\n",
        "   w_default_set_trimmed = w_default_set[9][i:i+step]\n",
        "   q_values_trimmed = q_values[2][i:i+step]\n",
        "   fig, ax = plt.subplots()\n",
        "   ax.plot(w_default_set_trimmed, q_values_trimmed, '-o', label='$q(w(i))$')\n",
        "   ax.set_xlabel('wages')\n",
        "   ax.set_ylabel('probabilities')\n",
        "   ax.set_title('Зависимость вероятности положительного решения от заработной платы')\n",
        "   plt.show()"
      ],
      "metadata": {
        "colab": {
          "base_uri": "https://localhost:8080/",
          "height": 487
        },
        "id": "U5YW2r4-j5gi",
        "outputId": "4c2af6e8-797a-4aa0-a9f8-e4c8df6dda22"
      },
      "execution_count": null,
      "outputs": [
        {
          "output_type": "display_data",
          "data": {
            "text/plain": [
              "<Figure size 1100x500 with 1 Axes>"
            ],
            "image/png": "[encoded data removed]"
          },
          "metadata": {}
        }
      ]
    },
    {
      "cell_type": "code",
      "source": [
        "step = 12\n",
        "for i in range(0, 12, step):\n",
        "   w_default_set_trimmed = w_default_set[8][i:i+step]\n",
        "   q_values_trimmed = q_values[8][i:i+step]\n",
        "   fig, ax = plt.subplots()\n",
        "   ax.plot(w_default_set_trimmed, q_values_trimmed, '-o', label='$q(w(i))$')\n",
        "   ax.set_xlabel('wages')\n",
        "   ax.set_ylabel('probabilities')\n",
        "   ax.set_title('Розничная торговля')\n",
        "   plt.show()"
      ],
      "metadata": {
        "colab": {
          "base_uri": "https://localhost:8080/",
          "height": 487
        },
        "id": "rV8Cn9DlleQt",
        "outputId": "d3728dc7-2b82-40a9-9f3d-2d28d3ea55f1"
      },
      "execution_count": null,
      "outputs": [
        {
          "output_type": "display_data",
          "data": {
            "text/plain": [
              "<Figure size 1100x500 with 1 Axes>"
            ],
            "image/png": "[encoded data removed]"
          },
          "metadata": {}
        }
      ]
    },
    {
      "cell_type": "code",
      "source": [
        "def lognormal_draws(n=1000, μ=100000, σ=50000, seed=1234):\n",
        "    np.random.seed(seed)\n",
        "    z = np.random.randn(n)\n",
        "    w_draws = np.exp(μ + σ * z)\n",
        "    return w_draws"
      ],
      "metadata": {
        "id": "SNxbf5pI3Va0"
      },
      "execution_count": null,
      "outputs": []
    },
    {
      "cell_type": "code",
      "source": [
        "def compute_reservation_wage(mcm):\n",
        "    \"\"\"\n",
        "    Computes the reservation wage of an instance of the McCall model\n",
        "    by finding the smallest w such that v(w) >= h.\n",
        "\n",
        "    If no such w exists, then w_bar is set to np.inf.\n",
        "    \"\"\"\n",
        "    u = lambda x: np.log(x/2)\n",
        "\n",
        "    v, d = solve_model(mcm)\n",
        "    h = u(mcm.c) + mcm.β * d\n",
        "\n",
        "    w_bar = np.inf\n",
        "    for i, wage in enumerate(mcm.w_grid):\n",
        "        if v[i] > h:\n",
        "            w_bar = wage\n",
        "            break\n",
        "\n",
        "    return w_bar"
      ],
      "metadata": {
        "id": "nSu02hFZ3h5x"
      },
      "execution_count": null,
      "outputs": []
    },
    {
      "cell_type": "code",
      "source": [
        "mccall_data_continuous = [\n",
        "    ('c', float64),          # unemployment compensation\n",
        "    ('α', float64),          # job separation rate\n",
        "    ('β', float64),          # discount factor\n",
        "    ('w_grid', float64[:]),  # grid of points for fitted VFI\n",
        "    ('w_draws', float64[:])  # draws of wages for Monte Carlo\n",
        "]\n",
        "\n",
        "@jitclass(mccall_data_continuous)\n",
        "class McCallModelContinuous:\n",
        "\n",
        "    def __init__(self,\n",
        "                 c=1,\n",
        "                 α=0.1,\n",
        "                 β=0.96,\n",
        "                 grid_min=1e-10,\n",
        "                 grid_max=5,\n",
        "                 grid_size=100,\n",
        "                 w_draws=lognormal_draws()):\n",
        "\n",
        "        self.c, self.α, self.β = c, α, β\n",
        "\n",
        "        self.w_grid = np.linspace(grid_min, grid_max, grid_size)\n",
        "        self.w_draws = w_draws\n",
        "\n",
        "    def update(self, v, d):\n",
        "\n",
        "        # Simplify names\n",
        "        c, α, β = self.c, self.α, self.β\n",
        "        w = self.w_grid\n",
        "        u = lambda x: np.log(x)\n",
        "\n",
        "        # Interpolate array represented value function\n",
        "        vf = lambda x: np.interp(x, w, v)\n",
        "\n",
        "        # Update d using Monte Carlo to evaluate integral\n",
        "        d_new = np.mean(np.maximum(vf(self.w_draws), u(c) + β * d))\n",
        "\n",
        "        # Update v\n",
        "        v_new = u(w) + β * ((1 - α) * v + α * d)\n",
        "\n",
        "        return v_new, d_new"
      ],
      "metadata": {
        "colab": {
          "base_uri": "https://localhost:8080/"
        },
        "id": "2nqGseei3SSa",
        "outputId": "8dc82fd5-325c-4162-ded8-0289ce3dc785"
      },
      "execution_count": null,
      "outputs": [
        {
          "output_type": "stream",
          "name": "stderr",
          "text": [
            "<ipython-input-28-ad29d2adfae1>:4: RuntimeWarning: overflow encountered in exp\n",
            "  w_draws = np.exp(μ + σ * z)\n"
          ]
        }
      ]
    },
    {
      "cell_type": "code",
      "source": [
        "def solve_model(mcm, tol=1e-5, max_iter=2000):\n",
        "    \"\"\"\n",
        "    Iterates to convergence on the Bellman equations\n",
        "\n",
        "    * mcm is an instance of McCallModel\n",
        "    \"\"\"\n",
        "\n",
        "    v = np.ones_like(mcm.w_grid)    # Initial guess of v\n",
        "    d = 1                           # Initial guess of d\n",
        "    i = 0\n",
        "    error = tol + 1\n",
        "\n",
        "    while error > tol and i < max_iter:\n",
        "        v_new, d_new = mcm.update(v, d)\n",
        "        error_1 = np.max(np.abs(v_new - v))\n",
        "        error_2 = np.abs(d_new - d)\n",
        "        error = max(error_1, error_2)\n",
        "        v = v_new\n",
        "        d = d_new\n",
        "        i += 1\n",
        "\n",
        "    return v, d"
      ],
      "metadata": {
        "id": "TkPCGT0k3oS8"
      },
      "execution_count": null,
      "outputs": []
    },
    {
      "cell_type": "code",
      "source": [
        "mcm = McCallModelContinuous()\n",
        "mu_vals = np.linspace(0.0, 65000, 1500)\n",
        "w_bar_vals = np.empty_like(mu_vals)\n",
        "\n",
        "fig, ax = plt.subplots()\n",
        "\n",
        "for i, m in enumerate(mu_vals):\n",
        "    mcm.w_draws = lognormal_draws(μ=m)\n",
        "    w_bar = compute_reservation_wage(mcm)\n",
        "    w_bar_vals[i] = w_bar\n",
        "\n",
        "ax.set(xlabel='mean wage', ylabel='reservation wage')\n",
        "ax.plot(mu_vals, w_bar_vals*10000, label=r'$\\bar w$ as a function of $\\mu$')\n",
        "ax.legend()\n",
        "ax.set_title('Зависимость средней зарплаты и резервной зааботной платы ')\n",
        "fig, ax = plt.subplots()\n",
        "ax.plot(w_default_set_trimmed, q_values_trimmed, '-o', label='$q(w(i))$')\n",
        "plt.show()"
      ],
      "metadata": {
        "colab": {
          "base_uri": "https://localhost:8080/",
          "height": 951
        },
        "id": "7QI8yBWhzgoF",
        "outputId": "c7c4c2de-fd9b-4fd6-d87a-d033516e260a"
      },
      "execution_count": null,
      "outputs": [
        {
          "output_type": "stream",
          "name": "stderr",
          "text": [
            "<ipython-input-28-ad29d2adfae1>:4: RuntimeWarning: overflow encountered in exp\n",
            "  w_draws = np.exp(μ + σ * z)\n"
          ]
        },
        {
          "output_type": "display_data",
          "data": {
            "text/plain": [
              "<Figure size 1100x500 with 1 Axes>"
            ],
            "image/png": "[encoded data removed]"
          },
          "metadata": {}
        },
        {
          "output_type": "display_data",
          "data": {
            "text/plain": [
              "<Figure size 1100x500 with 1 Axes>"
            ],
            "image/png": "[encoded data removed]"
          },
          "metadata": {}
        }
      ]
    },
    {
      "cell_type": "code",
      "source": [],
      "metadata": {
        "id": "31rMMpfB8Lf_"
      },
      "execution_count": null,
      "outputs": []
    }
  ]
}